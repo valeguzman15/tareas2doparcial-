{
  "nbformat": 4,
  "nbformat_minor": 0,
  "metadata": {
    "colab": {
      "name": "Copia de Untitled3.ipynb",
      "provenance": [],
      "collapsed_sections": []
    },
    "kernelspec": {
      "name": "python3",
      "display_name": "Python 3"
    }
  },
  "cells": [
    {
      "cell_type": "code",
      "metadata": {
        "id": "hu_XEeAAglUr"
      },
      "source": [
        "##definiendo ecuacion de newton rapson\n",
        "##guzman salcedo valeria\n",
        "import matplotlib.pyplot as plt\n",
        "import math"
      ],
      "execution_count": null,
      "outputs": []
    },
    {
      "cell_type": "code",
      "metadata": {
        "id": "MxP59C_xhDpw"
      },
      "source": [
        "def f(x):\n",
        "  return (math.exp(-x)-x)"
      ],
      "execution_count": null,
      "outputs": []
    },
    {
      "cell_type": "code",
      "metadata": {
        "id": "SDTbGaFthZBD"
      },
      "source": [
        "def f_prima(x):\n",
        "  return (-math.exp(-x)-1)"
      ],
      "execution_count": null,
      "outputs": []
    },
    {
      "cell_type": "code",
      "metadata": {
        "id": "tDUgAQCqhcvV"
      },
      "source": [
        "def x_i_next(xi):\n",
        "  return (xi-(f(xi)/f_prima(xi)))"
      ],
      "execution_count": null,
      "outputs": []
    },
    {
      "cell_type": "code",
      "metadata": {
        "colab": {
          "base_uri": "https://localhost:8080/"
        },
        "id": "GnEQVRo2hguX",
        "outputId": "2b33cfaa-c5c8-4732-dc84-92b2385f32a0"
      },
      "source": [
        "x_vec=[]\n",
        "x_vec.append(0)\n",
        "contador=int(input(\"inserte el contador: \"))\n",
        "error_vec=[]\n",
        "error_vec.append(float(input(\"inserte el error \")))\n",
        "criterio_paro=float(input(\"inserte el criterio de paro: \"))\n",
        "limite=int(input(\"inserte el limite \"))"
      ],
      "execution_count": null,
      "outputs": [
        {
          "output_type": "stream",
          "text": [
            "inserte el contador: 0\n",
            "inserte el error 1\n",
            "inserte el criterio de paro: 0.0001\n",
            "inserte el limite 2\n"
          ],
          "name": "stdout"
        }
      ]
    },
    {
      "cell_type": "code",
      "metadata": {
        "id": "9LZfi7VbjzL9"
      },
      "source": [
        "while((contador <= limite) and error_vec[contador] > criterio_paro):\n",
        "    x_temp=x_i_next(x_vec[contador])\n",
        "    x_vec.append(x_temp)\n",
        "    e_temp=abs(x_vec[contador+1]-x_vec[contador])\n",
        "    error_vec.append(e_temp)\n",
        "    contador+=1\n",
        "\n",
        "  \n",
        "      if (x_vec[contador]>9999): \n",
        "           Converge=False\n",
        "         print(\"no converge\")\n",
        "        else:\n",
        "        if (x_vec[contador]<9999):\n",
        "        Converge=True\n",
        "        print(\"Converge\")"
      ],
      "execution_count": null,
      "outputs": []
    },
    {
      "cell_type": "code",
      "metadata": {
        "colab": {
          "base_uri": "https://localhost:8080/"
        },
        "id": "pgkFx3O0kg5o",
        "outputId": "8e72f323-a1b4-425a-bb04-928c9b79d362"
      },
      "source": [
        " print(x_vec)"
      ],
      "execution_count": null,
      "outputs": [
        {
          "output_type": "stream",
          "text": [
            "[0]\n"
          ],
          "name": "stdout"
        }
      ]
    },
    {
      "cell_type": "code",
      "metadata": {
        "colab": {
          "base_uri": "https://localhost:8080/"
        },
        "id": "nieEs5vhkhcN",
        "outputId": "079f6358-52ee-459b-faf3-453c79c29c8f"
      },
      "source": [
        "\n",
        "print(error_vec)"
      ],
      "execution_count": null,
      "outputs": [
        {
          "output_type": "stream",
          "text": [
            "[1.0]\n"
          ],
          "name": "stdout"
        }
      ]
    },
    {
      "cell_type": "code",
      "metadata": {
        "id": "3sfCDnPLktew"
      },
      "source": [
        "plt.plot(x_vec)\n",
        "plt.show"
      ],
      "execution_count": null,
      "outputs": []
    },
    {
      "cell_type": "code",
      "metadata": {
        "id": "cZdy0ixlkywl"
      },
      "source": [
        "\n",
        "plt.plot(error_vec)\n",
        "plt.show"
      ],
      "execution_count": null,
      "outputs": []
    }
  ]
}